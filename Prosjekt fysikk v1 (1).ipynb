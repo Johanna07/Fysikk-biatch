{
 "cells": [
  {
   "cell_type": "code",
   "execution_count": 1,
   "metadata": {},
   "outputs": [],
   "source": [
    "import pandas as pd\n",
    "import pylab as pl"
   ]
  },
  {
   "cell_type": "markdown",
   "metadata": {},
   "source": [
    "#### For å bestemme hvilket grunnstoff det er må vi vite masse nr og atom nr\n",
    "#### Først må vi finne massene til reaktanten og produktet. Så finner vi differansen til massen og setter den inn som m i likningen:\n",
    "$ E = mc^2 $\n",
    "\n",
    "### Reaktanten på venstre side må være tyngre en Jern (Fe) med atom nummer 26. Problemet er å få lest den nødvendige dataen fra filen, og få bruke tallene vi får."
   ]
  },
  {
   "cell_type": "code",
   "execution_count": null,
   "metadata": {},
   "outputs": [],
   "source": [
    "atomnrV = int(input('Hva er atomnummeret til atomet til Venstre i likningen?'))\n",
    "massenrV = int(input('Hva er massenummeret til atomet til Venstre i likningen?'))\n",
    "atomnrH = int(input('Hva er atomnummeret til atomet til Høyre i likningen?'))\n",
    "massenrH = int(input('Hva er massenummeret til atomet til Venstre i likningen?'))"
   ]
  },
  {
   "cell_type": "code",
   "execution_count": null,
   "metadata": {},
   "outputs": [],
   "source": [
    "def funker(atomnrV):\n",
    "    if atomnrV < 26:\n",
    "        return False\n",
    "\n",
    "print(funker(atomnrV))"
   ]
  },
  {
   "cell_type": "code",
   "execution_count": null,
   "metadata": {},
   "outputs": [],
   "source": []
  }
 ],
 "metadata": {
  "kernelspec": {
   "display_name": "Python 3",
   "language": "python",
   "name": "python3"
  },
  "language_info": {
   "codemirror_mode": {
    "name": "ipython",
    "version": 3
   },
   "file_extension": ".py",
   "mimetype": "text/x-python",
   "name": "python",
   "nbconvert_exporter": "python",
   "pygments_lexer": "ipython3",
   "version": "3.6.5"
  }
 },
 "nbformat": 4,
 "nbformat_minor": 2
}
